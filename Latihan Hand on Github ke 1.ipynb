{
 "cells": [
  {
   "cell_type": "code",
   "execution_count": 1,
   "metadata": {},
   "outputs": [
    {
     "name": "stdout",
     "output_type": "stream",
     "text": [
      "32\n"
     ]
    }
   ],
   "source": [
    "# Ini adalah perkalian\n",
    "print(4 * 8)"
   ]
  },
  {
   "cell_type": "code",
   "execution_count": 2,
   "metadata": {},
   "outputs": [
    {
     "name": "stdout",
     "output_type": "stream",
     "text": [
      "1.1428571428571428\n"
     ]
    }
   ],
   "source": [
    "# ini adalah Pembagian\n",
    "print (8/7)"
   ]
  },
  {
   "cell_type": "code",
   "execution_count": 3,
   "metadata": {},
   "outputs": [
    {
     "name": "stdout",
     "output_type": "stream",
     "text": [
      "10\n",
      "0\n",
      "15\n",
      "5.0\n",
      "16\n",
      "4\n"
     ]
    }
   ],
   "source": [
    "# Penambahan dan pengurangan\n",
    "print(5 + 5)\n",
    "print(5 - 5)\n",
    "\n",
    "# Perkalian dan pembagian\n",
    "print(3 * 5)\n",
    "print(10 / 2)\n",
    "\n",
    "# Perpangkatan\n",
    "print(4 ** 2)\n",
    "\n",
    "# Pembagian Modulo\n",
    "print(18 % 7)"
   ]
  },
  {
   "cell_type": "code",
   "execution_count": 32,
   "metadata": {},
   "outputs": [
    {
     "name": "stdout",
     "output_type": "stream",
     "text": [
      "194871.7100000001\n"
     ]
    }
   ],
   "source": [
    "# masih bingung dalam perhitungannya \n",
    "print(100000 * 1.10 ** 7 ) "
   ]
  },
  {
   "cell_type": "code",
   "execution_count": 18,
   "metadata": {},
   "outputs": [],
   "source": [
    "simpanan = 100000"
   ]
  },
  {
   "cell_type": "code",
   "execution_count": 19,
   "metadata": {},
   "outputs": [
    {
     "name": "stdout",
     "output_type": "stream",
     "text": [
      "259374.24601000024\n"
     ]
    }
   ],
   "source": [
    "faktor = 1.10\n",
    "hasil = simpanan * faktor ** 10\n",
    "print(hasil)"
   ]
  },
  {
   "cell_type": "code",
   "execution_count": 20,
   "metadata": {},
   "outputs": [
    {
     "name": "stdout",
     "output_type": "stream",
     "text": [
      "<class 'float'>\n",
      "Sains DataSains Data\n"
     ]
    }
   ],
   "source": [
    "hasil_1 = faktor * simpanan\n",
    "print(type(hasil_1))\n",
    "desc = \"Sains Data\"\n",
    "dobel_desc = desc + desc\n",
    "print(dobel_desc)"
   ]
  },
  {
   "cell_type": "code",
   "execution_count": 26,
   "metadata": {},
   "outputs": [
    {
     "data": {
      "text/plain": [
       "'5'"
      ]
     },
     "execution_count": 26,
     "metadata": {},
     "output_type": "execute_result"
    }
   ],
   "source": [
    "a = 5\n",
    "a_baru = str(a)\n",
    "a_baru"
   ]
  },
  {
   "cell_type": "code",
   "execution_count": 27,
   "metadata": {},
   "outputs": [
    {
     "data": {
      "text/plain": [
       "str"
      ]
     },
     "execution_count": 27,
     "metadata": {},
     "output_type": "execute_result"
    }
   ],
   "source": [
    "type(a_baru)"
   ]
  },
  {
   "cell_type": "code",
   "execution_count": 28,
   "metadata": {},
   "outputs": [
    {
     "data": {
      "text/plain": [
       "300"
      ]
     },
     "execution_count": 28,
     "metadata": {},
     "output_type": "execute_result"
    }
   ],
   "source": [
    "b = '300'\n",
    "b_baru = int(b)\n",
    "b_baru"
   ]
  },
  {
   "cell_type": "code",
   "execution_count": 29,
   "metadata": {},
   "outputs": [
    {
     "data": {
      "text/plain": [
       "int"
      ]
     },
     "execution_count": 29,
     "metadata": {},
     "output_type": "execute_result"
    }
   ],
   "source": [
    "type(b_baru)"
   ]
  },
  {
   "cell_type": "code",
   "execution_count": 35,
   "metadata": {},
   "outputs": [
    {
     "name": "stdout",
     "output_type": "stream",
     "text": [
      "Uang saya awalnya100000 dan saya sekarang punya 194871.7100000001. Kueren cak\n"
     ]
    }
   ],
   "source": [
    "# Simpanan dan hasil\n",
    "simpanan_x = 100000\n",
    "hasil_x = 100000 * 1.10 ** 7\n",
    "\n",
    "# Fix the printout ( salahnya di pemanggilan variable ketika memanggil harus ada tipe data str())\n",
    "print(\"Uang saya awalnya\" + str(simpanan_x) + \" dan saya sekarang punya \" + str(hasil_x) + \". Kueren cak\")"
   ]
  },
  {
   "cell_type": "code",
   "execution_count": 36,
   "metadata": {},
   "outputs": [
    {
     "name": "stdout",
     "output_type": "stream",
     "text": [
      "3.1415926\n",
      "3.1415926\n"
     ]
    }
   ],
   "source": [
    "# tidak ada perubahan\n",
    "pi_string = \"3.1415926\"\n",
    "\n",
    "pi_float = float(pi_string)\n",
    "print(pi_float)\n",
    "print (pi_string)"
   ]
  },
  {
   "cell_type": "code",
   "execution_count": null,
   "metadata": {},
   "outputs": [],
   "source": []
  }
 ],
 "metadata": {
  "kernelspec": {
   "display_name": "Python 3",
   "language": "python",
   "name": "python3"
  },
  "language_info": {
   "codemirror_mode": {
    "name": "ipython",
    "version": 3
   },
   "file_extension": ".py",
   "mimetype": "text/x-python",
   "name": "python",
   "nbconvert_exporter": "python",
   "pygments_lexer": "ipython3",
   "version": "3.8.5"
  }
 },
 "nbformat": 4,
 "nbformat_minor": 4
}
